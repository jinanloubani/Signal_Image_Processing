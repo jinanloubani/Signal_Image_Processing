{
 "cells": [
  {
   "cell_type": "markdown",
   "metadata": {},
   "source": [
    "# Chambolle and Pock primal-dual algorithm for convex problems"
   ]
  },
  {
   "cell_type": "markdown",
   "metadata": {},
   "source": [
    "The purpose of this notebook is to implement the Algorithm of Chambolle and Pock and apply it for an inpaiting problem."
   ]
  },
  {
   "cell_type": "code",
   "execution_count": null,
   "metadata": {},
   "outputs": [],
   "source": [
    "import numpy as np\n",
    "from numpy.random import randn\n",
    "import matplotlib.image as mpimg \n",
    "import matplotlib.pyplot as plt\n",
    "import numpy.linalg as npl \n",
    "from numba import vectorize, jit, cuda \n",
    "import numpy as np \n",
    "from timeit import default_timer as timer \n",
    "import time\n",
    "\n",
    "from __future__ import division\n",
    "from numpy import random\n",
    "import scipy as scp\n",
    "import pylab as pyl\n",
    "import pywt\n",
    "from PIL import Image\n",
    "import requests\n",
    "from io import BytesIO\n",
    "import warnings\n",
    "warnings.filterwarnings('ignore')\n",
    "\n",
    "%matplotlib inline\n",
    "%load_ext autoreload\n",
    "%autoreload 2"
   ]
  },
  {
   "cell_type": "markdown",
   "metadata": {},
   "source": [
    "The general problem considered in the work of Chambolle and Pock is the generic saddle-point problem given by\n",
    "\n",
    "$$\\text{min}_{x\\in X} \\text{max}_{y\\in Y} \\langle Kx, Y \\rangle_1 + G(x) - F^*(y) $$\n",
    "\n",
    "where $G : X \\longrightarrow [0,+\\infty)$ and $F^* : Y \\longrightarrow [0,+\\infty)$ are proper, convex, lower_semicontinous (l.s.c) functions and $F^*$ is the convex conjugate of a onvex l.s.c. function $F$.\n",
    "\n",
    "This saddle-point problem is a primal-dual formulation of the nonlinear primal problem\n",
    "\n",
    "$$\\text{min}_{x\\in X} F(Kx)+ G(x) $$\n",
    "\n",
    "or of the corresponding dual problem\n",
    "\n",
    "$$\\text{max} -(G^*(-K^*y) + F^*(y))$$"
   ]
  },
  {
   "cell_type": "markdown",
   "metadata": {},
   "source": [
    "The initialization of the algorithm consists in choosing $\\sigma, \\tau >0$, $\\theta\\in [0,1]$, $(x^0,y^0)\\in X\\times Y$ and setting $\\bar{x}^0=x^0$, and the iterations are given by\n",
    "\n",
    "\\begin{equation}\n",
    "\\left\\{\n",
    "\\begin{matrix}\n",
    "y^{n+1}=&(I+\\sigma\\partial F^*)^{-1}(y^n+\\sigma K \\bar{x}^n)\\\\\n",
    "x^{n+1}=&(I+\\tau\\partial G)^{-1}(x^n-\\tau K^* y^{n+1})\\\\\n",
    "\\bar{x}^{n+1}=&x^{n+1} + \\theta (x^{n+1}-x^n)\n",
    "\\end{matrix}\n",
    "\\right.\n",
    "\\end{equation}"
   ]
  },
  {
   "cell_type": "markdown",
   "metadata": {},
   "source": [
    "To ensure the convergence of this algorithm, $\\sigma$ $\\tau$ have to be chosen such that $\\tau\\sigma L^2<1$ where $L=\\|K\\|$."
   ]
  },
  {
   "cell_type": "markdown",
   "metadata": {},
   "source": [
    "# Inpainting using total variation"
   ]
  },
  {
   "cell_type": "markdown",
   "metadata": {},
   "source": [
    "In this section we treat an inpainting problem which corresponds to filling holes in an image.\n",
    "\n",
    "Considering measurements $y=\\Phi u_0$ where $\\Phi$ is a masking operator, the problem can be written as \n",
    "$$\\text{min}_u \\| \\Phi u \\|_1 + \\frac{\\lambda}{2}\\|u-y\\|_2^2. $$\n",
    "where $\\Phi$ denotes a linear transformation."
   ]
  },
  {
   "cell_type": "markdown",
   "metadata": {},
   "source": [
    "First we load the image to be inpainted."
   ]
  },
  {
   "cell_type": "code",
   "execution_count": null,
   "metadata": {},
   "outputs": [],
   "source": [
    "url='https://plmlab.math.cnrs.fr/dossal/optimisationpourlimage/raw/master/img/Lenna.jpg'        \n",
    "response = requests.get(url)\n",
    "u0=np.array(Image.open(BytesIO(response.content))).astype(float)\n",
    "u0 = u0/255\n",
    "\n",
    "plt.imshow(u0, cmap=plt.get_cmap('gray'), vmin=0, vmax=1)\n",
    "plt.show()\n",
    "n = np.shape(u0)[0]"
   ]
  },
  {
   "cell_type": "markdown",
   "metadata": {},
   "source": [
    "Now to produce an observation, we construct a mask $\\Omega$ made of random pixel locations where the perameter $\\rho$ is used to choose the amout of removed pixels. The damaging operator put to zeros the pixel locations $x$ for which $\\Omega(x)=1$. The damaged observations reads $y = \\Phi u_0$."
   ]
  },
  {
   "cell_type": "code",
   "execution_count": null,
   "metadata": {},
   "outputs": [],
   "source": [
    "rho = .7\n",
    "Omega = np.zeros([n, n])\n",
    "sel = random.permutation(n**2)\n",
    "np.ravel(Omega)[sel[np.arange(int(rho*n**2))]] = 1\n",
    "Phi = lambda f, Omega: f*(1-Omega)\n",
    "inp_img = Phi(u0, Omega)\n",
    "plt.imshow(inp_img, cmap=plt.get_cmap('gray'), vmin=0, vmax=1)\n",
    "plt.show()"
   ]
  },
  {
   "cell_type": "markdown",
   "metadata": {},
   "source": [
    "To solve the problem using the algorithm of Chamboll et Pock, we consider the following modification. We denote by $D=\\{(i,j), 1 \\leq i \\leq M, 1 \\leq j \\leq N \\}$ the set of indices of the image domain and by $I\\subset D$ the set of indices of the inpainting domain.  The inpainting probblem is now given by \n",
    "$$\\text{min}_{u \\in X} \\| \\Phi u \\|_1 + \\frac{\\lambda}{2}\\sum_{i,j\\in D\\setminus I}(u_{i,j}-y_{i,j})^2. $$\n",
    "The saddle-point formulation of the problem is given by \n",
    "$$\\text{min}_{u\\in X} \\text{max}_{c\\in W} \\langle \\Phi u , c \\rangle_1 + \\frac{\\lambda}{2}\\sum_{i,j\\in D\\setminus I}(u_{i,j}-y_{i,j})^2 - \\delta_C(c) $$\n",
    "where $C$ is the convex set defined by \n",
    "$$C = \\{c \\in W : \\|c\\|_{\\infty} \\leq 1 \\}.$$\n",
    "To keep the same notations as the initial algorithm, we set $G(u) = \\frac{\\lambda}{2}\\sum_{i,j\\in D\\setminus I}(u_{i,j}-y_{i,j})^2$ and $F^*(c)= \\delta_C(c)$.\n",
    "\n",
    "Thus the resolvent operators are given by \n",
    "$$c = (I+\\sigma\\partial F^*)^{-1}(\\tilde{c}) \\Leftrightarrow c_k = \\frac{\\tilde{c}_k}{\\text{max}(1,|\\tilde{c}_k|)}$$\n",
    "and \n",
    "$$u = (I+\\tau\\partial G)^{-1}(\\tilde{u}) \\Leftrightarrow u_{i,j} = \\tilde{u}_{i,j} \\text{ if } (i,j) \\in I, \\frac{\\tilde{u}_{i,j}+\\tau\\lambda g_{i,j}}{1+\\tau\\lambda} \\text{else}.$$"
   ]
  },
  {
   "cell_type": "markdown",
   "metadata": {},
   "source": [
    "The total variation regularisation corresponds to considering the linear transformation $\\Phi$ to be the gradient operator."
   ]
  },
  {
   "cell_type": "code",
   "execution_count": null,
   "metadata": {},
   "outputs": [],
   "source": [
    "def GradientHor(x):\n",
    "    y=x-np.roll(x,1,axis=1)\n",
    "    y[:,0]=0\n",
    "    return y\n",
    "def GradientVer(x):\n",
    "    y=x-np.roll(x,1,axis=0)\n",
    "    y[0,:]=0\n",
    "    return y\n",
    "def DivHor(x):\n",
    "    N=len(x[0])\n",
    "    y=x-np.roll(x,-1,axis=1)\n",
    "    y[:,0]=-x[:,1]\n",
    "    y[:,N-1]=x[:,N-1]\n",
    "    return y\n",
    "def DivVer(x):\n",
    "    N=len(x)\n",
    "    y=x-np.roll(x,-1,axis=0)\n",
    "    y[0,:]=-x[1,:]\n",
    "    y[N-1,:]=x[N-1,:]\n",
    "    return y\n",
    "def Gradient(x):\n",
    "    y=[]\n",
    "    y.append(GradientHor(x))\n",
    "    y.append(GradientVer(x))\n",
    "    return np.array(y)\n",
    "def Div(y):\n",
    "    x=DivHor(y[0]) + DivVer(y[1])\n",
    "    return np.array(x)\n",
    "def ProjGradBouleInf(g,l):\n",
    "    gh=g[0]\n",
    "    gv=g[1]\n",
    "    temp=g\n",
    "    p0=gh-(gh-l)*(gh>l)-(gh+l)*(gh<-l)\n",
    "    p1=gv-(gv-l)*(gv>l)-(gv+l)*(gv<-l)\n",
    "    temp[0]=p0\n",
    "    temp[1]=p1\n",
    "    return temp"
   ]
  },
  {
   "cell_type": "code",
   "execution_count": null,
   "metadata": {},
   "outputs": [],
   "source": [
    "lamb = 100\n",
    "tau = 0.5\n",
    "sigma = 1/(8*tau)\n",
    "\n",
    "I= np.argwhere(Omega==1)\n",
    "theta = 1\n",
    "\n",
    "init = np.zeros_like(u0)\n",
    "xb = init.copy()\n",
    "y = np.copy(inp_img)\n",
    "x = init.copy()\n",
    "\n",
    "def Iteration_CP(x = x ,xb = xb, y = y, theta = theta,lamb = lamb, sigma = sigma):\n",
    "\n",
    "    pt = y + sigma * Gradient(xb)\n",
    "\n",
    "    y = pt / (np.maximum(1,npl.norm(pt)))\n",
    "    \n",
    "    x_old = np.copy(x)\n",
    "    \n",
    "    ut = x_old - tau * Div(y)\n",
    "    \n",
    "    x = ut*Omega + (1 - Omega) * (ut + tau * lamb * inp_img)/(1 + tau * lamb)\n",
    "    \n",
    "    xb = x + theta*(x - x_old)\n",
    "    f = npl.norm(xb - u0)\n",
    "    return x,xb,y,f  "
   ]
  },
  {
   "cell_type": "code",
   "execution_count": null,
   "metadata": {},
   "outputs": [],
   "source": [
    "RES1 = []\n",
    "RES2 = []\n",
    "\n",
    "F = []\n",
    "tstart = time.time()\n",
    "for i in range(1000):\n",
    "    x,xb,y,f = Iteration_CP(x,xb,y)\n",
    "    RES1 += [xb]\n",
    "    RES2 += [x]\n",
    "\n",
    "    F += [f]\n",
    "    if i%50 == 0:\n",
    "        print(\"Step : \",i)\n",
    "print(\"\\n\\nTime : \",time.time() - tstart)"
   ]
  },
  {
   "cell_type": "code",
   "execution_count": null,
   "metadata": {},
   "outputs": [],
   "source": [
    "fig, axs = plt.subplots(2, 2,figsize=(20,15))\n",
    "axs[0, 0].imshow(u0, cmap=plt.get_cmap('gray'), vmin=0, vmax=1)\n",
    "axs[0, 0].set_title('Initial Image')\n",
    "axs[0, 1].imshow(inp_img, cmap=plt.get_cmap('gray'), vmin=0, vmax=1)\n",
    "axs[0, 1].set_title('Inpainting Image')\n",
    "axs[1, 0].imshow(xb, cmap=plt.get_cmap('gray'), vmin=0, vmax=1)\n",
    "axs[1, 0].set_title('Solution')\n",
    "tmp = RES1[-1]-u0\n",
    "axs[1, 1].imshow(tmp, cmap=plt.get_cmap('gray'), vmin=np.min(tmp), vmax=np.max(tmp))\n",
    "axs[1, 1].set_title('Difference')\n",
    "\n",
    "for ax in axs.flat:\n",
    "    ax.label_outer()\n",
    "plt.show()"
   ]
  },
  {
   "cell_type": "code",
   "execution_count": null,
   "metadata": {},
   "outputs": [],
   "source": [
    "%matplotlib auto\n",
    "plt.figure(0)\n",
    "plt.plot(F)\n",
    "plt.show()"
   ]
  },
  {
   "cell_type": "code",
   "execution_count": null,
   "metadata": {},
   "outputs": [],
   "source": []
  }
 ],
 "metadata": {
  "kernelspec": {
   "display_name": "Python 3",
   "language": "python",
   "name": "python3"
  },
  "language_info": {
   "codemirror_mode": {
    "name": "ipython",
    "version": 3
   },
   "file_extension": ".py",
   "mimetype": "text/x-python",
   "name": "python",
   "nbconvert_exporter": "python",
   "pygments_lexer": "ipython3",
   "version": "3.8.3"
  }
 },
 "nbformat": 4,
 "nbformat_minor": 4
}
