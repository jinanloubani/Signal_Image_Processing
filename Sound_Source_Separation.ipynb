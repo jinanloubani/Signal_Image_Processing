{
 "cells": [
  {
   "cell_type": "markdown",
   "metadata": {
    "colab_type": "text",
    "id": "-5wDqbZziqsf"
   },
   "source": [
    "# Séparation de sources"
   ]
  },
  {
   "cell_type": "code",
   "execution_count": null,
   "metadata": {},
   "outputs": [],
   "source": [
    "local = 1\n",
    "if local== 0:\n",
    "    import io\n",
    "    import soundfile as sf\n",
    "    from urllib.request import urlopen\n",
    "\n",
    "    url1 = \"https://plmlab.math.cnrs.fr/dossal/optimisationpourlimage/raw/master/img/Mix11.wav\"\n",
    "    url2 = \"https://plmlab.math.cnrs.fr/dossal/optimisationpourlimage/raw/master/img/Mix21.wav\"\n",
    "    url3 = \"https://plmlab.math.cnrs.fr/dossal/optimisationpourlimage/raw/master/img/Mix12.wav\"\n",
    "    url4 = \"https://plmlab.math.cnrs.fr/dossal/optimisationpourlimage/raw/master/img/Mix22.wav\"\n",
    "    V1, samplerate = sf.read(io.BytesIO(urlopen(url1).read()))\n",
    "    V2, samplerate = sf.read(io.BytesIO(urlopen(url2).read()))\n",
    "    V3, samplerate = sf.read(io.BytesIO(urlopen(url3).read()))\n",
    "    V4, samplerate = sf.read(io.BytesIO(urlopen(url4).read()))\n",
    "    \n",
    "    V1=2**14*V1\n",
    "    V2=2**14*V2\n",
    "    V3=2**14*V3\n",
    "    V4=2**14*V4\n",
    "else :\n",
    "    V1=\"Mix11.wav\"\n",
    "    V2=\"Mix21.wav\"\n",
    "    V3=\"Mix12.wav\"\n",
    "    V4=\"Mix22.wav\""
   ]
  },
  {
   "cell_type": "code",
   "execution_count": null,
   "metadata": {
    "colab": {},
    "colab_type": "code",
    "id": "cIV-_ZGjiqsm"
   },
   "outputs": [],
   "source": [
    "from __future__ import division\n",
    "from IPython.display import Audio\n",
    "import numpy as np\n",
    "import scipy as scp\n",
    "import pylab as pyl\n",
    "from matplotlib import cm\n",
    "import matplotlib.pyplot as plt\n",
    "import pywt\n",
    "import scipy.io as sio\n",
    "from scipy import fftpack\n",
    "from matplotlib.pyplot import imshow as imageplot\n",
    "from mpl_toolkits.mplot3d import Axes3D\n",
    "import wave\n",
    "import warnings\n",
    "from scipy.io.wavfile import read\n",
    "warnings.filterwarnings('ignore')\n",
    "import math"
   ]
  },
  {
   "cell_type": "markdown",
   "metadata": {
    "colab_type": "text",
    "id": "eliHlWXgiqsy"
   },
   "source": [
    "Le but de ce travail est de réaliser un programme python qui effectue une séparation de sources. Plus précisément un programme qui prend en entrée un son stéréophonique, mélange instantané de plusieurs sources sonores (ici des instruments de musique) et qui renvoie plusieurs sons stéréophoniques. On utilisera la transformée de Fourier à court terme (TFCT), ou transformée de Fourier à fenêtres. \n",
    "    Le procédé général de ce programme de séparation de sources est intégralement décrit dans le poly de cours. Je vous invite à vous y reporter pour de plus amples explications. En bref, on va utiliser le fait, \n",
    "    que la plupart du temps, deux instrusments ne jouent pas la même note au même moment et on va segmenter les spectrogrammes des deux voix de manière à attribuer chaque atome temps-fréquence à un instrument, en fonction du rapport d'intensité entre les deux voix, qui est supposé caractérisé chaque instrument.\n",
    "\n",
    "Le travail se décompose en trois parties.\n",
    "\n",
    "*1) On considère un mélange de seulement deux instruments et on fait l'hypothèse que l'on connait les coefficients du mélange.*\n",
    "\n",
    "*2) On considère un mélange de trois instruments et on fait l'hypothèse que l'on connait les coefficients du mélange.*\n",
    "\n",
    "*3) On considère le même mélange de trois instruments mais cette fois ci on estime les coefficients de mélange.*"
   ]
  },
  {
   "cell_type": "markdown",
   "metadata": {
    "colab_type": "text",
    "id": "WvslK5lch9cu"
   },
   "source": [
    "# **Séparation avec connaissance des coefficients de mélange**"
   ]
  },
  {
   "cell_type": "markdown",
   "metadata": {
    "colab_type": "text",
    "id": "JYrVy-Uoin4B"
   },
   "source": [
    "Tout d'abord nous nous situons dans un cas où nous connaissons le nombre d’instruments ainsi que les coefficients de mélange des deux voix. Le but va alors être à partir des Transformées de Fourier à Court Terme (TFCT, c’est-à-dire le diagramme temps-fréquence du signal sonore) de créer les spectrogrammes associés à chaque instrument pour chaque voix. Pour cela, nous associons les coefficients caractéristiques d’un instrument aux deux spectrogrammes de cet instrument. Une fois cela effectué, nous reconstituons le son de chaque instrument sortant de chaque voix. \n",
    "\n",
    "Pour réaliser cela, nous nous appuierons sur le spectrogramme et la manière dont il propose une représentation parcimonieuse du signal sonore.\n",
    "\n",
    "De plus, nous admettrons les propriétés suivantes : \n",
    "* Les instruments jouant au même moment ne jouent pas à la même fréquence (en considérant un grand nombre de fenêtres temporelles), et s'ils jouent à la même fréquence ne jouent pas au même moment.\n",
    "* Il n'y a pas de retard d'un instrument par rapport aux autres sur les différentes voix : on parle de mélange simultané."
   ]
  },
  {
   "cell_type": "markdown",
   "metadata": {
    "colab_type": "text",
    "id": "bC_9G2Juiqs0"
   },
   "source": [
    "## Séparation de deux instruments"
   ]
  },
  {
   "cell_type": "markdown",
   "metadata": {
    "colab_type": "text",
    "id": "UCCzzwhsiqs3"
   },
   "source": [
    "*A l'aide la fonction read, charger dans deux vecteurs différents $V1$ et $V2$ les sons Mix11.wav et Mix21.wav et afficher les tranformées de Fourier à fenêtres de chacune des deux voix (on utilisera TFCourtTerme).\n",
    "On pourra afficher les basses fréquences pour mieux voir.\n",
    "On fait l'hypothèse que les voix 1 et 2 (dites V1 et V2 ) est obtenue à partir des deux sources S1 et S2 de la manière suivante :\n",
    "$$V_1=\\frac{1}{3}S_1+\\frac{2}{3}S_2\\text{ et }V_2=\\frac{2}{3}S_1+\\frac{1}{3}S_2$$\n",
    "Vous devriez voir les traces des deux instruments qui diffèrent par leur structure.*"
   ]
  },
  {
   "cell_type": "markdown",
   "metadata": {
    "colab_type": "text",
    "id": "QQu55OHKiqs5"
   },
   "source": [
    "#### **Visualisation des données initiales**"
   ]
  },
  {
   "cell_type": "code",
   "execution_count": null,
   "metadata": {
    "colab": {
     "base_uri": "https://localhost:8080/",
     "height": 358
    },
    "colab_type": "code",
    "id": "gN67kDWRiqs7",
    "outputId": "04b20db7-8429-44c6-cdcc-9b51b590f47c"
   },
   "outputs": [],
   "source": [
    "Fe=44100\n",
    "#V1=\"Mix11.wav\"\n",
    "a=read(V1)\n",
    "Audio(a[1], rate=Fe)"
   ]
  },
  {
   "cell_type": "code",
   "execution_count": null,
   "metadata": {
    "colab": {},
    "colab_type": "code",
    "id": "Gdny3PSuiqtF"
   },
   "outputs": [],
   "source": [
    "Fe=44100\n",
    "#V2=\"Mix21.wav\"\n",
    "b=read(V2)\n",
    "Audio(b[1], rate=Fe)"
   ]
  },
  {
   "cell_type": "code",
   "execution_count": null,
   "metadata": {
    "colab": {},
    "colab_type": "code",
    "id": "_k3s1m8FiqtK"
   },
   "outputs": [],
   "source": [
    "plt.figure()\n",
    "plt.plot(a[1])\n",
    "plt.show()\n",
    "plt.plot(b[1])"
   ]
  },
  {
   "cell_type": "markdown",
   "metadata": {
    "colab_type": "text",
    "id": "aCf2dTTHiqtP"
   },
   "source": [
    "Nous pouvons constater ici que les deux signaux émettant des deux voix ne sont pas les mêmes. Nous observons une différence notable au niveau de l'intensité des deux voix, cela met en exergue un mélange différent des deux sons sources.\n",
    "\n",
    "De surcroît, en affichant séparement les signaux sonores des deux voix, nous remarquons deux formes qui se distinguent : d'un côté des pics d'intensité qui correspondraient à la batterie, de l'autre une forme plus étendue en temps pour la guitare. Nous nous attendons à retrouver chaque forme pour chaque spectre."
   ]
  },
  {
   "cell_type": "markdown",
   "metadata": {
    "colab_type": "text",
    "id": "Yc-xSjDEiqtR"
   },
   "source": [
    "#### **Affichage des deux TFCT**"
   ]
  },
  {
   "cell_type": "code",
   "execution_count": null,
   "metadata": {
    "colab": {},
    "colab_type": "code",
    "id": "7iZ1e6l1iqtT"
   },
   "outputs": [],
   "source": [
    "def TFCourtTerme(Son,N,rec):\n",
    "    H=np.hanning(N)\n",
    "    NS=len(Son)\n",
    "    Nf=math.floor(NS*rec/N)-(rec-1)\n",
    "    TF = np.zeros((N,Nf),dtype='complex')\n",
    "    for k in range (1,Nf):\n",
    "        TF[:,k] = np.copy(Son[(k-1)*math.floor(N/rec):(k-1)*math.floor(N/rec)+N]*H) \n",
    "        TF[:,k] = fftpack.fft(TF[:,k]) \n",
    "    return TF"
   ]
  },
  {
   "cell_type": "code",
   "execution_count": null,
   "metadata": {
    "colab": {},
    "colab_type": "code",
    "id": "LdwrvQ0EiqtV"
   },
   "outputs": [],
   "source": [
    "son1 = a[1]\n",
    "TF1_0 = TFCourtTerme(son1,1024,8)\n",
    "\n",
    "plt.figure(0,figsize=(20, 20))\n",
    "plt.imshow(np.abs(TF1_0[:500,:]),vmin=10,vmax=200000)"
   ]
  },
  {
   "cell_type": "code",
   "execution_count": null,
   "metadata": {
    "colab": {},
    "colab_type": "code",
    "id": "e9JgacsgiqtY"
   },
   "outputs": [],
   "source": [
    "son2 = b[1]\n",
    "TF2_0 = TFCourtTerme(son2,1024,8)\n",
    "\n",
    "plt.figure(0,figsize=(20, 20))\n",
    "plt.imshow(np.abs(TF2_0[:500,:]),vmin=10,vmax=200000)"
   ]
  },
  {
   "cell_type": "markdown",
   "metadata": {
    "colab_type": "text",
    "id": "bFuXOO8Wiqta"
   },
   "source": [
    "Commentaires : \n",
    "Nous nous apercevons bien, en observant la TFCT des deux signaux, que les sons ne sont pas les mêmes. Au vu des caractéristiques des deux instruments, nous devinons les effets de ces derniers sur la TFCT. \n",
    "La trace de la guitare correspond à un trait allongé dans le temps, alors que celle de la batterie s'allonge sur les fréquences, ceci étant expliqué par la brièveté du son de la batterie. \n",
    "Nous pouvons dire que les traces qui s'étalent sur les fréquences sont plus fortes sur le deuxième spectrogramme comme le laissait entendre la comparaison des deux signaux sonores. En revanche, le son de la guitare est plus intense sur la voix 1, ce que l'on observe également sur le spectrogramme. Finalement, les deux TFCT confirment les hypothèses sur les mélanges des deux instruments."
   ]
  },
  {
   "cell_type": "markdown",
   "metadata": {
    "colab_type": "text",
    "id": "iYke8eX7iqtb"
   },
   "source": [
    "#### **Décomposition du son**"
   ]
  },
  {
   "cell_type": "markdown",
   "metadata": {
    "colab_type": "text",
    "id": "XYa-47Jgiqtc"
   },
   "source": [
    "*Proposer un programme Separation2Instru qui prend en entrée deux Transformées de Fourier à court terme (TFCT) et un seuil $T$ et qui renvoie 4 TFCT, chacune associée à une source et à un instrument. Le détail de la procédure est décrite dans le poly et a été expliqué en cours. On rappelle, qu'on effectue la séparation uniquement à partir du module de la TFCT. On reconstruit ensuite les TFCT en utilisant les phases des voix 1 et 2.*\n",
    "\n",
    "Pour attribuer chaque coefficient au bon spectre, nous calculons le rapport d'intensité en chaque point : si celui-ci est supérieur ou égal au seuil fixé, nous le stockons dans les premiers spectres correspondant associés à ceux de la guitare, sinon nous stockons sa valeur dans ceux de la batterie."
   ]
  },
  {
   "cell_type": "code",
   "execution_count": null,
   "metadata": {
    "colab": {},
    "colab_type": "code",
    "id": "BOu12VROiqtc"
   },
   "outputs": [],
   "source": [
    "def Separation2Intru(TF1_0,TF2_0,T): \n",
    "    n,m = np.shape(TF1_0)\n",
    "    \n",
    "    TF1G = np.zeros((n,m),dtype='complex')\n",
    "    TF1B = np.zeros((n,m),dtype='complex')\n",
    "    TF2G = np.zeros((n,m),dtype='complex')\n",
    "    TF2B = np.zeros((n,m),dtype='complex')\n",
    "    \n",
    "    for i in range (n):\n",
    "        for j in range(m):\n",
    "            if np.abs(TF1_0[i,j])/np.abs(TF2_0[i,j]) >= T :\n",
    "                TF1G[i,j] = TF1_0[i,j]               \n",
    "                TF2G[i,j] = TF2_0[i,j]\n",
    "            else :\n",
    "                TF1B[i,j] = TF1_0[i,j]             \n",
    "                TF2B[i,j] = TF2_0[i,j]\n",
    "    return TF1G, TF1B, TF2G, TF2B "
   ]
  },
  {
   "cell_type": "markdown",
   "metadata": {
    "colab_type": "text",
    "id": "jhfXrNXOiqte"
   },
   "source": [
    "*Quel seuil peut-on proposer ici ? Proposer une formule générale en fonction des coefficients du mélange.*"
   ]
  },
  {
   "cell_type": "markdown",
   "metadata": {
    "colab_type": "text",
    "id": "UNkzEUULiqtf"
   },
   "source": [
    "Nous choisissons ici comme seuil la moyenne géométrique $T = \\sqrt{R_1 R_2}$, cette dernière moins sensible aux grandes valeurs que la moyenne arithmétique."
   ]
  },
  {
   "cell_type": "code",
   "execution_count": null,
   "metadata": {
    "colab": {},
    "colab_type": "code",
    "id": "_9hLHImriqtg"
   },
   "outputs": [],
   "source": [
    "R1 = (1/3)/(2/3)\n",
    "R2 = (2/3)/(1/3)\n",
    "T = np.sqrt(R1*R2)\n",
    "print(T)"
   ]
  },
  {
   "cell_type": "markdown",
   "metadata": {
    "colab_type": "text",
    "id": "RF2vEbHr2Tjp"
   },
   "source": [
    "Maintenant que nous avons l'algorithme de séparation, nous construisons les spectres correspondant à nos deux instruments pour chaque voix."
   ]
  },
  {
   "cell_type": "code",
   "execution_count": null,
   "metadata": {
    "colab": {},
    "colab_type": "code",
    "id": "ytYqJ88Biqtk"
   },
   "outputs": [],
   "source": [
    "TF1G, TF1B, TF2G, TF2B  = Separation2Intru(TF1_0,TF2_0,T)"
   ]
  },
  {
   "cell_type": "code",
   "execution_count": null,
   "metadata": {
    "colab": {},
    "colab_type": "code",
    "id": "YKbFKw2-iqtm"
   },
   "outputs": [],
   "source": [
    "plt.figure(0,figsize=(20, 20))\n",
    "plt.imshow(np.abs(TF1B[:500,:]),vmin=10,vmax=200000)"
   ]
  },
  {
   "cell_type": "code",
   "execution_count": null,
   "metadata": {
    "colab": {},
    "colab_type": "code",
    "id": "H2pUJrpViqtp"
   },
   "outputs": [],
   "source": [
    "plt.figure(0,figsize=(20, 20))\n",
    "plt.imshow(np.abs(TF1G[:500,:]),vmin=10,vmax=200000)"
   ]
  },
  {
   "cell_type": "markdown",
   "metadata": {
    "colab_type": "text",
    "id": "6UxXbkeCiqtr"
   },
   "source": [
    "En affichant deux des TFCT reconstituées après séparation, nous nous rendons compte que nous avons bien séparé le son émis par les deux instruments. Sur chacune, nous observons la trace laissée par un seul instrument."
   ]
  },
  {
   "cell_type": "markdown",
   "metadata": {
    "colab_type": "text",
    "id": "P4AQ_nvCiqts"
   },
   "source": [
    "#### **Reconstitution des sons séparés**"
   ]
  },
  {
   "cell_type": "markdown",
   "metadata": {
    "colab_type": "text",
    "id": "AuyEWn1Kiqtt"
   },
   "source": [
    "*Reconstruire ensuite à l'aide du programme RecSon, chacune des voix et écouter chacun des 4 sons produits. \n",
    "Commentez le résultat.*"
   ]
  },
  {
   "cell_type": "code",
   "execution_count": null,
   "metadata": {
    "colab": {},
    "colab_type": "code",
    "id": "dwJW9cA9iqtt"
   },
   "outputs": [],
   "source": [
    "def RecSon(TF,rec):\n",
    "    N=np.shape(TF)[0]\n",
    "    Nf=np.shape(TF)[1]\n",
    "    H=np.hanning(N)\n",
    "    Son=np.zeros( math.floor((Nf+7)*N/rec), dtype='complex')\n",
    "    for k in range (1,Nf):\n",
    "        d = (k-1)*math.floor(N/rec)\n",
    "        f = d+N\n",
    "        Son[d:f] += np.real(fftpack.ifft(TF[:,k])*H)\n",
    "    return Son"
   ]
  },
  {
   "cell_type": "code",
   "execution_count": null,
   "metadata": {
    "colab": {},
    "colab_type": "code",
    "id": "aCjS4mJgiqtw"
   },
   "outputs": [],
   "source": [
    "#Son original\n",
    "z = RecSon(TFCourtTerme(son1,1024,8),8)\n",
    "Audio(z,rate=Fe)"
   ]
  },
  {
   "cell_type": "code",
   "execution_count": null,
   "metadata": {
    "colab": {},
    "colab_type": "code",
    "id": "Oa80W7sPiqty"
   },
   "outputs": [],
   "source": [
    "#Son Batterie Voix 1 \n",
    "a = RecSon(TF1B,8)\n",
    "Audio(a, rate=Fe)"
   ]
  },
  {
   "cell_type": "code",
   "execution_count": null,
   "metadata": {
    "colab": {},
    "colab_type": "code",
    "id": "GzxORYMSr3XO"
   },
   "outputs": [],
   "source": [
    "plt.plot(a)\n",
    "plt.show()"
   ]
  },
  {
   "cell_type": "code",
   "execution_count": null,
   "metadata": {
    "colab": {},
    "colab_type": "code",
    "id": "0WptFcFbiqt0",
    "outputId": "16d02d4b-9a20-46de-b10d-460538138ec7"
   },
   "outputs": [],
   "source": [
    "#Son Guitare Voix 1 \n",
    "b = RecSon(TF1G,8)\n",
    "Audio(b, rate=Fe)"
   ]
  },
  {
   "cell_type": "code",
   "execution_count": null,
   "metadata": {
    "colab": {},
    "colab_type": "code",
    "id": "gIPea_Cur5X4"
   },
   "outputs": [],
   "source": [
    "plt.plot(b)\n",
    "plt.show()"
   ]
  },
  {
   "cell_type": "code",
   "execution_count": null,
   "metadata": {
    "colab": {},
    "colab_type": "code",
    "id": "Rl2vBo4iiqt3",
    "outputId": "033c1ea9-5f6f-4cfd-fadc-8035d31fd923"
   },
   "outputs": [],
   "source": [
    "#Son Batterie Voix 2 \n",
    "c = RecSon(TF2B,8)\n",
    "Audio(c, rate=Fe)"
   ]
  },
  {
   "cell_type": "code",
   "execution_count": null,
   "metadata": {
    "colab": {},
    "colab_type": "code",
    "id": "uEn1Q6Lor81_"
   },
   "outputs": [],
   "source": [
    "plt.plot(c)\n",
    "plt.show()"
   ]
  },
  {
   "cell_type": "code",
   "execution_count": null,
   "metadata": {
    "colab": {},
    "colab_type": "code",
    "id": "qTHRGMKziqt6",
    "outputId": "c58a0bcc-2540-4af0-e401-4fd91c391471"
   },
   "outputs": [],
   "source": [
    "#Son Guitare Voix 2 \n",
    "d = RecSon(TF2G,8)\n",
    "Audio(d, rate=Fe)"
   ]
  },
  {
   "cell_type": "code",
   "execution_count": null,
   "metadata": {
    "colab": {},
    "colab_type": "code",
    "id": "9qtzbXw_r_tl"
   },
   "outputs": [],
   "source": [
    "plt.plot(d)\n",
    "plt.show()"
   ]
  },
  {
   "cell_type": "markdown",
   "metadata": {
    "colab_type": "text",
    "id": "FMAYel8Giqt8"
   },
   "source": [
    "Finalement, nous retrouvons pour chaque voix, le son d'un seul des deux instruments, cela se retrouve également sur le signal sonore : nous obtenons les formes caractéristiques de chaque instrument vues précédemment.\n",
    "\n",
    "\n"
   ]
  },
  {
   "cell_type": "markdown",
   "metadata": {
    "colab_type": "text",
    "id": "CoOOoOYIiqt9"
   },
   "source": [
    "## Séparation de trois instruments"
   ]
  },
  {
   "cell_type": "markdown",
   "metadata": {
    "colab_type": "text",
    "id": "-kiux1SeiquA"
   },
   "source": [
    "#### **Visualisation des données intiales**"
   ]
  },
  {
   "cell_type": "markdown",
   "metadata": {
    "colab_type": "text",
    "id": "WvYjdBvwiquB"
   },
   "source": [
    "*Charger les nouvelles voix 1 et 2 à partir des fichiers Mix12.wav et Mix22.wav.\n",
    "    On fait l'hypothèse que chacune des voix est maintenant un mélange instantané de trois instruments \n",
    "$$SV_1= \\frac{2}{5}S_1 + \\frac{1}{5}S_2 + \\frac{4}{5}S_3\\text{ et }V_2= \\frac{3}{5}S_1 + \\frac{4}{5}S_2 + \\frac{1}{5}S_3$$*\n"
   ]
  },
  {
   "cell_type": "code",
   "execution_count": null,
   "metadata": {
    "colab": {},
    "colab_type": "code",
    "id": "MIIi5lBliquC",
    "outputId": "355aaf12-902f-4097-a82b-fcd7911fdec1"
   },
   "outputs": [],
   "source": [
    "Fe=44100\n",
    "#V3=\"Mix12.wav\"\n",
    "a=read(V3)\n",
    "Audio(a[1], rate=Fe)"
   ]
  },
  {
   "cell_type": "code",
   "execution_count": null,
   "metadata": {
    "colab": {},
    "colab_type": "code",
    "id": "D0L8KaVkiquF",
    "outputId": "7a9b8013-ccdc-43d3-ff33-7e6927ff2849"
   },
   "outputs": [],
   "source": [
    "Fe=44100\n",
    "#V4=\"Mix22.wav\"\n",
    "b=read(V4)\n",
    "Audio(b[1], rate=Fe)"
   ]
  },
  {
   "cell_type": "markdown",
   "metadata": {
    "colab_type": "text",
    "id": "iMO3BLx9iquI"
   },
   "source": [
    "*Afficher les spectrogrammes des deux voix et visualiser les traces des trois instruments.* "
   ]
  },
  {
   "cell_type": "code",
   "execution_count": null,
   "metadata": {
    "colab": {},
    "colab_type": "code",
    "id": "nuwh4w66iquI",
    "outputId": "172bd3c1-451b-43d5-b773-c5e57fa8133f"
   },
   "outputs": [],
   "source": [
    "plt.figure()\n",
    "plt.plot(a[1])\n",
    "plt.show()\n",
    "plt.plot(b[1])"
   ]
  },
  {
   "cell_type": "markdown",
   "metadata": {
    "colab_type": "text",
    "id": "1kLtu4DGiquL"
   },
   "source": [
    "Ici encore, nous observons que le signal est différent selon la voix, notamment en terme d'intensité. Cela semble mettre encore une fois en évidence les différents mélange du son. En ce qui concerne les formes caractéristiques des instruments, nous reconnaissons la batterie. En revanche, il est plus compliqué de discerner le piano et la guitare. Toutefois, par l'expérience précédente, nous connaissons le schéma du son de la guitare. Nous pouvons donc deviner celui du piano (plus particulèrement pour la deuxième voix)."
   ]
  },
  {
   "cell_type": "markdown",
   "metadata": {
    "colab_type": "text",
    "id": "2t0a1RJeiquL"
   },
   "source": [
    "#### **Affichage des deux TFCT**"
   ]
  },
  {
   "cell_type": "code",
   "execution_count": null,
   "metadata": {
    "colab": {},
    "colab_type": "code",
    "id": "muZbAGv_iquM",
    "outputId": "ed96509c-998c-4bc3-ba9b-e5f59c8362d8"
   },
   "outputs": [],
   "source": [
    "son1 = a[1]\n",
    "TF1_0 = TFCourtTerme(son1,1024,8)\n",
    "\n",
    "plt.figure(0,figsize=(20, 20))\n",
    "plt.imshow(np.abs(TF1_0[:500,:]),vmin=10,vmax=200000)"
   ]
  },
  {
   "cell_type": "code",
   "execution_count": null,
   "metadata": {
    "colab": {},
    "colab_type": "code",
    "id": "TvU8Y5_DiquN",
    "outputId": "9bcda47e-48d4-4329-c308-9ac2226cc195"
   },
   "outputs": [],
   "source": [
    "son2 = b[1]\n",
    "TF2_0 = TFCourtTerme(son2,1024,8)\n",
    "\n",
    "plt.figure(0,figsize=(20, 20))\n",
    "plt.imshow(np.abs(TF2_0[:500,:]),vmin=10,vmax=200000)"
   ]
  },
  {
   "cell_type": "markdown",
   "metadata": {
    "colab_type": "text",
    "id": "kWQopCkQiquP"
   },
   "source": [
    "Nous constatons encore la trace allongée (verticalement) de la batterie.\n",
    "\n",
    " Nous pouvons reconnaître la trace de la guitare (les traces jaunes vertes) par la séparation précédente, qui est plus marquée dans la première voix. \n",
    " \n",
    " Etant donné nos suppositions sur la batterie et la guitare, nous en déduisons la trace du piano, allongée dans le temps. Cela semble cohérent avec le type de son qu'émet cet instrument. Ce son \"fluide\" semble plus marqué dans le deuxième spectrogramme. "
   ]
  },
  {
   "cell_type": "markdown",
   "metadata": {
    "colab_type": "text",
    "id": "_CFEO5AFiquQ"
   },
   "source": [
    "#### **Reconstitution des signaux décomposés**"
   ]
  },
  {
   "cell_type": "markdown",
   "metadata": {
    "colab_type": "text",
    "id": "Y2vmvxRpiquQ"
   },
   "source": [
    "*Proposer un programme de séparation Separation3Instru qui prend en entrée deux TFCT, un vecteur $T$ seuil à 2 composantes et qui renvoie 6 TFCT associées aux deux voix de chacun des trois instruments.*\n",
    "\n",
    "Dans cet algorithme, nous calculons le rapport d'intensité et nous le comparons aux valeurs seuil : si cette valeur est inférieure à $T_1$ nous associons les coefficients des deux spectres à ceux du piano, si c'est supérieur à $T_2$ nous les associons à ceux de la guitare, sinon à ceux de la batterie.\n",
    "\n"
   ]
  },
  {
   "cell_type": "code",
   "execution_count": null,
   "metadata": {
    "colab": {},
    "colab_type": "code",
    "id": "z5I9DEOriquR"
   },
   "outputs": [],
   "source": [
    "def Separation3Intru(TF1_0,TF2_0,T1,T2): \n",
    "    n,m = np.shape(TF1_0)\n",
    "    \n",
    "    TF1G = np.zeros((n,m),dtype='complex')\n",
    "    TF1B = np.zeros((n,m),dtype='complex')\n",
    "    TF1S = np.zeros((n,m),dtype='complex')\n",
    "    TF2G = np.zeros((n,m),dtype='complex')\n",
    "    TF2B = np.zeros((n,m),dtype='complex')\n",
    "    TF2S = np.zeros((n,m),dtype='complex')\n",
    "    \n",
    "    for i in range (n):\n",
    "        for j in range(m):\n",
    "            num = np.abs(TF1_0[i,j])\n",
    "            denum = np.abs(TF2_0[i,j]) \n",
    "            if num < T1 * denum :\n",
    "                TF1S[i,j] = TF1_0[i,j]               \n",
    "                TF2S[i,j] = TF2_0[i,j]\n",
    "            elif num > T2 * denum :\n",
    "                TF1G[i,j] = TF1_0[i,j]               \n",
    "                TF2G[i,j] = TF2_0[i,j]\n",
    "            else :\n",
    "                TF1B[i,j] = TF1_0[i,j]             \n",
    "                TF2B[i,j] = TF2_0[i,j]\n",
    "    return TF1G, TF1B, TF2G, TF2B , TF1S, TF2S"
   ]
  },
  {
   "cell_type": "markdown",
   "metadata": {
    "colab_type": "text",
    "id": "FMuVZ0YBiquS"
   },
   "source": [
    "*Ecrire un programme CalculSeuil qui prend en entrée 3 rapports d'intensité et qui renvoie deux seuils associés.*"
   ]
  },
  {
   "cell_type": "markdown",
   "metadata": {
    "colab_type": "text",
    "id": "xSiaKsj0iquU"
   },
   "source": [
    "Pour calculer, le seuil, ici, nous calculons les rapport d'intensité $R_1$,$R_2$ et $R_3$. Puis, en les ordonnant, nous calculons les moyennes géométriques $T_1$ et $T_2$ selon le même principe que précédemment : $T_1 = \\sqrt{R_1 R_2}, T_2 = \\sqrt{R_2 R_3}$ en supposant que $R_1 < R_2 < R_3$."
   ]
  },
  {
   "cell_type": "code",
   "execution_count": null,
   "metadata": {
    "colab": {},
    "colab_type": "code",
    "id": "3tJj77uIiquS"
   },
   "outputs": [],
   "source": [
    "def CalculSeuil(a11,a12,a13,a21,a22,a23):\n",
    "    R = np.array([a11/a21,a12/a22,a13/a23])\n",
    "    R = np.sort(R)\n",
    "    T1 = np.sqrt(R[0]*R[1])\n",
    "    T2 = np.sqrt(R[1]*R[2])\n",
    "    return T1,T2"
   ]
  },
  {
   "cell_type": "code",
   "execution_count": null,
   "metadata": {
    "colab": {
     "base_uri": "https://localhost:8080/",
     "height": 181
    },
    "colab_type": "code",
    "id": "q9_ktj138azN",
    "outputId": "7a5a9115-dd62-4a87-f060-b752bfba2391"
   },
   "outputs": [],
   "source": [
    "T1, T2 = CalculSeuil(2./5,1./5,4./5,3./5,4./5,1./5)\n",
    "print(T1, T2)"
   ]
  },
  {
   "cell_type": "markdown",
   "metadata": {
    "colab_type": "text",
    "id": "ioB0IuFWiquU"
   },
   "source": [
    "*Tester le programme en utilisant les rapports d'intensités calculés à partir des coefficients de mélange, et commenter.*\n",
    "\n",
    "Maintenant que nous avons adapté l'algorithme de séparation pour trois instruments, nous construisons les six spectrogrammes."
   ]
  },
  {
   "cell_type": "code",
   "execution_count": null,
   "metadata": {
    "colab": {},
    "colab_type": "code",
    "id": "yC7gDVTgiquV",
    "outputId": "1d906689-fc47-470f-b7a5-259e06ab2e80"
   },
   "outputs": [],
   "source": [
    "TF1G, TF1B, TF2G, TF2B, TF1S, TF2S  = Separation3Intru(TF1_0,TF2_0,T1,T2)"
   ]
  },
  {
   "cell_type": "markdown",
   "metadata": {
    "colab_type": "text",
    "id": "WuDJXC-diquX"
   },
   "source": [
    "#### **Reconsitution des sons séparés**"
   ]
  },
  {
   "cell_type": "code",
   "execution_count": null,
   "metadata": {
    "colab": {},
    "colab_type": "code",
    "id": "2NmWSBwoiquX",
    "outputId": "904ddf6e-41b9-4d39-daf4-d6c3a6cec2f6"
   },
   "outputs": [],
   "source": [
    "Fe=44100\n",
    "#V2=\"Mix22.wav\"\n",
    "b=read(V4)\n",
    "Audio(b[1], rate=Fe)"
   ]
  },
  {
   "cell_type": "code",
   "execution_count": null,
   "metadata": {
    "colab": {},
    "colab_type": "code",
    "id": "dGwnRuwAiquZ",
    "outputId": "e932928c-43b8-4a11-ed42-415de11adf75"
   },
   "outputs": [],
   "source": [
    "#Son Batterie Voix 1 \n",
    "a = RecSon(TF1B,8)\n",
    "Audio(a, rate=Fe)"
   ]
  },
  {
   "cell_type": "code",
   "execution_count": null,
   "metadata": {
    "colab": {},
    "colab_type": "code",
    "id": "yg02O1Is-1L5"
   },
   "outputs": [],
   "source": [
    "plt.plot(a)\n",
    "plt.show()"
   ]
  },
  {
   "cell_type": "code",
   "execution_count": null,
   "metadata": {
    "colab": {},
    "colab_type": "code",
    "id": "qCRHq8PRiquc",
    "outputId": "7d8d86f3-8001-44f7-bd14-f9334937958e"
   },
   "outputs": [],
   "source": [
    "#Son Batterie Voix 2 \n",
    "b = RecSon(TF2B,8)\n",
    "Audio(b, rate=Fe)"
   ]
  },
  {
   "cell_type": "code",
   "execution_count": null,
   "metadata": {
    "colab": {},
    "colab_type": "code",
    "id": "dK3pFH6pique",
    "outputId": "6d7f2559-4e91-4bc8-d7a9-0bf4de4f8de5"
   },
   "outputs": [],
   "source": [
    "#Son Guitare Voix 1 \n",
    "c = RecSon(TF1G,8)\n",
    "Audio(c, rate=Fe)"
   ]
  },
  {
   "cell_type": "code",
   "execution_count": null,
   "metadata": {
    "colab": {},
    "colab_type": "code",
    "id": "dh2lX48f-3oA"
   },
   "outputs": [],
   "source": [
    "plt.plot(c)\n",
    "plt.show()"
   ]
  },
  {
   "cell_type": "code",
   "execution_count": null,
   "metadata": {
    "colab": {},
    "colab_type": "code",
    "id": "UUIgIj5iiqug",
    "outputId": "53480ee5-63a3-421d-b897-a20f3d0eec49"
   },
   "outputs": [],
   "source": [
    "#Son Guitare Voix 2\n",
    "d = RecSon(TF2G,8)\n",
    "Audio(d, rate=Fe)"
   ]
  },
  {
   "cell_type": "code",
   "execution_count": null,
   "metadata": {
    "colab": {},
    "colab_type": "code",
    "id": "NKqsDPQpiqui",
    "outputId": "fe1bdfd8-b8de-4f0a-e1c6-8a72538a0a52"
   },
   "outputs": [],
   "source": [
    "#Son Piano Voix 1 \n",
    "e = RecSon(TF1S,8)\n",
    "Audio(e, rate=Fe)"
   ]
  },
  {
   "cell_type": "code",
   "execution_count": null,
   "metadata": {
    "colab": {},
    "colab_type": "code",
    "id": "qLnbtk5p-6qh"
   },
   "outputs": [],
   "source": [
    "plt.plot(e)\n",
    "plt.show()"
   ]
  },
  {
   "cell_type": "code",
   "execution_count": null,
   "metadata": {
    "colab": {},
    "colab_type": "code",
    "id": "djyuNuz4iquk",
    "outputId": "d4d78a4e-22e7-487c-8dd1-e359217cf5e2"
   },
   "outputs": [],
   "source": [
    "#Son Piano Voix 2\n",
    "f = RecSon(TF2S,8)\n",
    "Audio(f, rate=Fe)"
   ]
  },
  {
   "cell_type": "markdown",
   "metadata": {
    "colab_type": "text",
    "id": "108V66Yaiqun"
   },
   "source": [
    "Commentaires : \n",
    "On peut voir sur les graphes que les sons ont bien été séparés, ce qui est également confirmé en écoutant les bandes sonores. En revanche, la batterie et le piano se recouvrent un peu. Ainsi, nous entendons du piano dans la bande son dédiée à la batterie, enlevant de la qualité à ce dernier ainsi qu'à celui dédié au piano."
   ]
  },
  {
   "cell_type": "markdown",
   "metadata": {
    "colab_type": "text",
    "id": "rjyGyTVPiUKS"
   },
   "source": [
    "# **Séparation sans connaissance des coefficients de mélange**"
   ]
  },
  {
   "cell_type": "markdown",
   "metadata": {
    "colab_type": "text",
    "id": "YCjtkgB2iqun"
   },
   "source": [
    "## Estimation des coefficients de mélange"
   ]
  },
  {
   "cell_type": "markdown",
   "metadata": {
    "colab_type": "text",
    "id": "2B1biuqxiqun"
   },
   "source": [
    "On suppose dans cette partie qu'on veut effectuer la séparation précédente, sans connaitre les coefficienst de mélange. On parle de séparation aveugle. On va donc chercher à estimer ces coefficients de mélange, ou plus précisément des rapports d'intensité des deux voix pour chacun des instruments. L'idée générale est simple : on va calculer un histogramme des rapports d'intensité des modules des TFCT et sélectionner les 3 valeurs les plus réprésentées dans l'histogramme, c'est à dire les troix maxima locaux de l'histogramme. Dans le détail on procéder de la manière suivante :\n",
    "\n",
    "1) On construit un tableau ModuleCarre qui va contenir la somme des carrés des modules des TFCT des deux voix.\n",
    "\n",
    "2) On seuille ce tableau de manière à ne conserver que les N= 10% de coefficients les plus importants du tableau.\n",
    "\n",
    "3) On construit une matrice $2\\times N$ qui contient les pairs d'intensité associées des TFCT des deux voix.\n",
    "\n",
    "4) On affiche sur un diagramme 2D les points obtnus (on ne les relie pas, on affiche par exemple des croix).\n",
    "\n",
    "Les points obtenus doivent se répartir approximativement selon des nuages dirigés le long de droites dont les coefficients directeurs sont les rapports d'intensité.\n",
    "\n",
    "5) On calcule un vecteur $R$ de rapports d'intensité (de longueur N).\n",
    "\n",
    "6) On affiche un histogramme de $R$ et un histogramme de $U=\\frac{R}{1+R}$. Vous devriez observer que les maxima de l'histogramme de $U$ sont plus marqués. \n",
    "\n",
    "7) Ecrire un programme qui estime les 3 valeurs des maximas de l'histogramme de U et donc les rapports $R_1$, $R_2$ et $R_3$ associés aux trois isntruments.\n",
    "\n",
    "8) A l'aide du programme précédent, calculer les seuils optimaux et effectuer la séparation.\n",
    "\n",
    "9) Commenter."
   ]
  },
  {
   "cell_type": "markdown",
   "metadata": {
    "colab_type": "text",
    "id": "pBpg0eqYiquo"
   },
   "source": [
    "#### **Sélection des 10% coefficients les plus importants**"
   ]
  },
  {
   "cell_type": "markdown",
   "metadata": {
    "colab_type": "text",
    "id": "yAZKHXtriquo"
   },
   "source": [
    "Nous calculons ici la somme des carrés des modules des TFCT des deux voix, le résultat étant placé dans la variable ModuleCarre. Nous sélectionnons les couples $(i,j)$ tel que $ModuleCarre_{i,j}$ fasse parti des $10$% plus grands  coefficients de la matrice. En sortie, nous fournissons la valeur de la TFCT en ces couples $(i,j)$. Une fois cette sortie obtenue, nous affichons la TFCT de la voix 1 en fonction de celle de la voix 2."
   ]
  },
  {
   "cell_type": "code",
   "execution_count": null,
   "metadata": {
    "colab": {},
    "colab_type": "code",
    "id": "Ohf-lfRNiqup",
    "outputId": "2b19bd79-1087-4600-d092-ed271bd91a77"
   },
   "outputs": [],
   "source": [
    "def intensite (TF1,TF2):\n",
    "    n,m = np.shape(TF1)\n",
    "    \n",
    "    ModuleCarre = np.abs(TF1)**2 + np.abs(TF2)**2 \n",
    "    ModuleCarre = ModuleCarre.reshape((1,n*m))\n",
    "    index = np.argsort(-ModuleCarre)[0]\n",
    "    N = int(0.1*len(index))\n",
    "    index = index[:N]\n",
    "    PInt = np.zeros((2,N))\n",
    "    for k in range (N):\n",
    "        i = index[k]//m\n",
    "        j = index[k]%m                                                                                                                                                                                                                                                                                                                                                                                                                                                                                   \n",
    "        PInt[0,k] = np.abs(TF1[i,j])\n",
    "        PInt[1,k] = np.abs(TF2[i,j])\n",
    "    return PInt\n",
    "    \n",
    "plt.figure()\n",
    "PInt = intensite(TF1_0,TF2_0)\n",
    "plt.plot(PInt[0,:],PInt[1,:],'x')\n",
    "plt.title(\"TFCT1 en fonction de TFCT2 pour certains coefficients\")"
   ]
  },
  {
   "cell_type": "markdown",
   "metadata": {
    "colab_type": "text",
    "id": "vhzOHJRcfQ2t"
   },
   "source": [
    "Sur ce graphe, correspondant à la TFCT1 en fonction de la TFCT2 pour les 10% coefficients les plus élevés de la somme de leurs modules carrés, nous pouvons constater que le nuage de points se répartit le long de deux droites. Leur coefficient directeur correspond aux rapports d'intensité qui nous intéressent.\n",
    "Ici, il nous semble difficile de les retrouver par une régression linéaire. C'est pourquoi, nous allons essayer de les retrouver au travers d'un histogramme de $\\frac{TFCT1}{TFCT2}$.   "
   ]
  },
  {
   "cell_type": "markdown",
   "metadata": {
    "colab_type": "text",
    "id": "39XnBgGwiqur"
   },
   "source": [
    "#### **Estimation des rapports $R$**"
   ]
  },
  {
   "cell_type": "markdown",
   "metadata": {
    "colab_type": "text",
    "id": "DFJNg0vviqur"
   },
   "source": [
    "Nous affichons ici l'histogramme correspondant à $\\frac{TFCT_1(i,j)}{TFCT_2(i,j)}$, où $TFCT_1$ est la TFCT de la voix 1, et $TFCT_2$ de la voix 2, et $(i,j)$ correspond aux couples sélectionnés précédemment."
   ]
  },
  {
   "cell_type": "code",
   "execution_count": null,
   "metadata": {
    "colab": {
     "base_uri": "https://localhost:8080/",
     "height": 232
    },
    "colab_type": "code",
    "id": "mcOV0BTkiqus",
    "outputId": "135405f7-1cdb-45a5-c9fc-2f7549a0a3b3"
   },
   "outputs": [],
   "source": [
    "R = PInt[0,:]/PInt[1,:]\n",
    "plt.figure(figsize=(15,4))\n",
    "plt.subplot(1,2,1)\n",
    "plt.hist(R,bins=len(R)//1000)\n",
    "plt.title(\"Histogramme de R\")\n",
    "\n",
    "plt.subplot(1,2,2)\n",
    "plt.hist(R[R<25],bins=len(R[R<25])//1000)\n",
    "plt.title(\"Histogramme de R sur [0,25]\")\n",
    "plt.show()"
   ]
  },
  {
   "cell_type": "markdown",
   "metadata": {
    "colab_type": "text",
    "id": "UD4Xy0-eiquv"
   },
   "source": [
    "Ici, nous constatons d'une part des valeurs plutôt aberrantes (l'échelle des abscisses est supérieure à 100). De plus, il est difficile d'observer les trois pics correspondant à $R_1, R_2, R_3$.\n",
    "\n",
    "Pour pallier cela, nous nous proposons de tracer l'histogramme de $U$, où $U = \\frac{R}{1+R}$. Cela permet de concentrer davantage l'information pour retrouver plus facilement les maxima. De plus, la fonction f : R $\\longmapsto$ U étant inversible, nous saurons retrouver R."
   ]
  },
  {
   "cell_type": "code",
   "execution_count": null,
   "metadata": {
    "colab": {},
    "colab_type": "code",
    "id": "VKcz4b66iquv",
    "outputId": "6590f261-1cef-4149-c4b1-37d41446d895"
   },
   "outputs": [],
   "source": [
    "U = R/(R+1)\n",
    "plt.hist(U, bins=len(U)//1000)\n",
    "plt.title(\"Histogramme de U\")\n",
    "plt.show()"
   ]
  },
  {
   "cell_type": "markdown",
   "metadata": {
    "colab_type": "text",
    "id": "05bE6M9Biqux"
   },
   "source": [
    "Nous observon bien ici les trois maximas. Il ne reste plus qu'à obtenir les $argmax$. "
   ]
  },
  {
   "cell_type": "markdown",
   "metadata": {
    "colab_type": "text",
    "id": "CP39cEF-iquy"
   },
   "source": [
    "La fonction suivante se charge de réaliser cela. Elle se contente de sélectionner les points représentants des $max$,c'est-à-dire tel que $U_{k-1} < U_{k}$ et $U_{k} < U_{k+1}$. Parmi ceux-là, elle ne considère que les $3$ premiers et retourne leurs positions dans le tableau constituant l'histogramme. Grâce à cette dernière, nous pouvons trouver les bornes utilisées pour faire l'histogramme. L'$argmax$ correspond alors à la moyenne des deux bornes (par choix arbitraire).   "
   ]
  },
  {
   "cell_type": "code",
   "execution_count": null,
   "metadata": {
    "colab": {},
    "colab_type": "code",
    "id": "Od7WYAwIiquy"
   },
   "outputs": [],
   "source": [
    "def histmax(hist):\n",
    "    max_pot = []\n",
    "    max_hist = []\n",
    "    for i in range (1,len(hist)-1):\n",
    "        if hist[i] - hist[i-1] > 0 and hist[i+1] - hist[i] < 0 :\n",
    "            max_pot += [i]\n",
    "    index = np.argsort(-hist[max_pot])[:3]\n",
    "    for i in range (3):\n",
    "        max_hist += [max_pot[index[i]]] \n",
    "    return max_hist\n"
   ]
  },
  {
   "cell_type": "code",
   "execution_count": null,
   "metadata": {
    "colab": {},
    "colab_type": "code",
    "id": "VVef9A7hiquz",
    "outputId": "b2e9ca82-1370-4d4f-f151-9d94ccea7ba7"
   },
   "outputs": [],
   "source": [
    "hist, bin_edges = np.histogram(U,len(U)//1000)\n",
    "plt.plot(hist)\n",
    "\n",
    "index = histmax(hist)\n",
    "print(index)\n",
    "Umax = np.zeros(len(index))\n",
    "for i in range (len(index)):\n",
    "    k = index[i]\n",
    "    Umax[i] = (bin_edges[k]+bin_edges[k+1])/2\n",
    "    "
   ]
  },
  {
   "cell_type": "markdown",
   "metadata": {},
   "source": [
    "Par ce test, nous vérifions les argmax de U."
   ]
  },
  {
   "cell_type": "code",
   "execution_count": null,
   "metadata": {
    "colab": {},
    "colab_type": "code",
    "id": "7LchD2Bmiqu1",
    "outputId": "7703d3ea-3b0a-4f09-ae82-22bc92e6f3cb"
   },
   "outputs": [],
   "source": [
    "Rmax = Umax/(1-Umax)\n",
    "print(Umax)\n",
    "print(Rmax)"
   ]
  },
  {
   "cell_type": "markdown",
   "metadata": {
    "colab_type": "text",
    "id": "McPfke1qiqu2"
   },
   "source": [
    "Notons que ce résultat est très variable en fonction des intervalles choisis pour l'histogrammme. En effet, si nous prenons des intervalles trop grands, nous perdons en précision. Si nous les prenons trop petits, nous pouvons confondre et nous tromper sur les maxima locaux. En effet, nous constatons que l'amplitude du deuxième pic est très forte, alors que le premier pic est peu visible. Si nous découpons en de plus petits intervalles, nous pouvons prendre deux fois le même $max$."
   ]
  },
  {
   "cell_type": "markdown",
   "metadata": {
    "colab_type": "text",
    "id": "TxFJczaTiqu2"
   },
   "source": [
    "## Application"
   ]
  },
  {
   "cell_type": "markdown",
   "metadata": {
    "colab_type": "text",
    "id": "P1eld1IaK45b"
   },
   "source": [
    "Maintenant que nous avons retrouvé nos rapports d'intensité, nous pouvons séparer les trois instruments. Toutefois, nous devons encore adapter la fonction qui calcule les seuils, ne prenant plus en argument les coefficients du mélange mais ces rapports d'intensité.\n",
    "\n"
   ]
  },
  {
   "cell_type": "code",
   "execution_count": null,
   "metadata": {
    "colab": {},
    "colab_type": "code",
    "id": "Sxuxw7neiqu3"
   },
   "outputs": [],
   "source": [
    "def CalculSeuil(R):\n",
    "    R = np.sort(R)\n",
    "    T1 = np.sqrt(R[0]*R[1])\n",
    "    T2 = np.sqrt(R[1]*R[2])\n",
    "    return T1,T2"
   ]
  },
  {
   "cell_type": "code",
   "execution_count": null,
   "metadata": {
    "colab": {},
    "colab_type": "code",
    "id": "fDQKL-S6iqu4",
    "outputId": "b141ac67-0dea-4e31-cab2-6258b8bc9266"
   },
   "outputs": [],
   "source": [
    "T1, T2 = CalculSeuil(Rmax)\n",
    "print(T1, T2)\n",
    "TF1G, TF1B, TF2G, TF2B, TF1S, TF2S  = Separation3Intru(TF1_0,TF2_0,T1,T2)"
   ]
  },
  {
   "cell_type": "code",
   "execution_count": null,
   "metadata": {
    "colab": {},
    "colab_type": "code",
    "id": "kt9P2loUiqu5",
    "outputId": "1b9f1831-40c0-45f9-f6bf-42719ae66d47"
   },
   "outputs": [],
   "source": [
    "#Son Batterie Voix 1 \n",
    "a = RecSon(TF1B,8)\n",
    "Audio(a, rate=Fe)"
   ]
  },
  {
   "cell_type": "code",
   "execution_count": null,
   "metadata": {
    "colab": {},
    "colab_type": "code",
    "id": "M3xaGexlKsFQ"
   },
   "outputs": [],
   "source": [
    "plt.plot(a)\n",
    "plt.show()"
   ]
  },
  {
   "cell_type": "code",
   "execution_count": null,
   "metadata": {
    "colab": {},
    "colab_type": "code",
    "id": "RsETUT6eiqu7",
    "outputId": "5f83cf4a-4d3b-44a4-ed62-978550267cc4"
   },
   "outputs": [],
   "source": [
    "#Son Batterie Voix 2\n",
    "b = RecSon(TF2B,8)\n",
    "Audio(b, rate=Fe)"
   ]
  },
  {
   "cell_type": "code",
   "execution_count": null,
   "metadata": {
    "colab": {},
    "colab_type": "code",
    "id": "roKBaCmGiqu9",
    "outputId": "6e2716f9-b19c-4bee-ae13-4623158a6111"
   },
   "outputs": [],
   "source": [
    "#Son Guitare Voix 1 \n",
    "c = RecSon(TF1G,8)\n",
    "Audio(c, rate=Fe)"
   ]
  },
  {
   "cell_type": "code",
   "execution_count": null,
   "metadata": {
    "colab": {},
    "colab_type": "code",
    "id": "5HdOpdbiKmYv"
   },
   "outputs": [],
   "source": [
    "plt.plot(c)\n",
    "plt.show()"
   ]
  },
  {
   "cell_type": "code",
   "execution_count": null,
   "metadata": {
    "colab": {},
    "colab_type": "code",
    "id": "PsJ69_fpiqvB",
    "outputId": "78dcbeb3-f7ec-4759-ddbe-b8ea526035ad"
   },
   "outputs": [],
   "source": [
    "#Son Guitare Voix 2\n",
    "d = RecSon(TF2G,8)\n",
    "Audio(d, rate=Fe)"
   ]
  },
  {
   "cell_type": "code",
   "execution_count": null,
   "metadata": {
    "colab": {},
    "colab_type": "code",
    "id": "eqPlx1XziqvD",
    "outputId": "e71c2a98-b303-40e3-d396-8f1495194e64"
   },
   "outputs": [],
   "source": [
    "#Son Piano Voix 1\n",
    "e = RecSon(TF1S,8)\n",
    "Audio(e, rate=Fe)"
   ]
  },
  {
   "cell_type": "code",
   "execution_count": null,
   "metadata": {
    "colab": {},
    "colab_type": "code",
    "id": "d1GXdOaNKh_C"
   },
   "outputs": [],
   "source": [
    "plt.plot(e)\n",
    "plt.show()"
   ]
  },
  {
   "cell_type": "code",
   "execution_count": null,
   "metadata": {
    "colab": {},
    "colab_type": "code",
    "id": "IPh9oQeoiqvF",
    "outputId": "7bf45fe9-75a6-48da-9e43-5704c677324c"
   },
   "outputs": [],
   "source": [
    "#Son Piano Voix 2\n",
    "f = RecSon(TF2S,8)\n",
    "Audio(f, rate=Fe)"
   ]
  },
  {
   "cell_type": "markdown",
   "metadata": {
    "colab_type": "text",
    "id": "ob6CqSNsiqvH"
   },
   "source": [
    "Commentaires : \n",
    "Nous avons séparé les différents instruments en retrouvant expérimentalement les rapports d'intensité. Nous sommes globalement contents des résultats puisque nous avons à peu de choses près les mêmes sorties que lorsque nous connaissions le mélange. "
   ]
  },
  {
   "cell_type": "code",
   "execution_count": null,
   "metadata": {},
   "outputs": [],
   "source": []
  }
 ],
 "metadata": {
  "colab": {
   "collapsed_sections": [
    "pBpg0eqYiquo",
    "39XnBgGwiqur",
    "TxFJczaTiqu2"
   ],
   "name": "Copie de Separation de sources(1)(1).ipynb",
   "provenance": []
  },
  "kernelspec": {
   "display_name": "Python 3",
   "language": "python",
   "name": "python3"
  },
  "language_info": {
   "codemirror_mode": {
    "name": "ipython",
    "version": 3
   },
   "file_extension": ".py",
   "mimetype": "text/x-python",
   "name": "python",
   "nbconvert_exporter": "python",
   "pygments_lexer": "ipython3",
   "version": "3.8.3"
  },
  "latex_envs": {
   "LaTeX_envs_menu_present": true,
   "autoclose": false,
   "autocomplete": true,
   "bibliofile": "biblio.bib",
   "cite_by": "apalike",
   "current_citInitial": 1,
   "eqLabelWithNumbers": true,
   "eqNumInitial": 1,
   "hotkeys": {
    "equation": "Ctrl-E",
    "itemize": "Ctrl-I"
   },
   "labels_anchors": false,
   "latex_user_defs": false,
   "report_style_numbering": false,
   "user_envs_cfg": false
  }
 },
 "nbformat": 4,
 "nbformat_minor": 1
}
